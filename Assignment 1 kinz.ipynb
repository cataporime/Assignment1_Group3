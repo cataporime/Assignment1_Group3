{
 "cells": [
  {
   "cell_type": "code",
   "execution_count": 9,
   "id": "1151b682-225d-4751-a475-6639c47024f1",
   "metadata": {},
   "outputs": [
    {
     "name": "stdout",
     "output_type": "stream",
     "text": [
      "C:\\Users\\Kinzlee\\SDA 250 Fall 2024\\Assignment 1\n",
      "['.ipynb_checkpoints', 'Assignment1_prep.ipynb', 'Jeffrey Dahmer_ Psychopathy and Neglect.pdf', 'Jeffrey Dahmer_ Psychopathy and Neglect.txt', 'Untitled.ipynb']\n"
     ]
    }
   ],
   "source": [
    "import os\n",
    "print(os.getcwd())\n",
    "print(os.listdir())"
   ]
  },
  {
   "cell_type": "code",
   "execution_count": 5,
   "id": "7de8e844-afea-4323-aa6b-14fe1f4243fc",
   "metadata": {},
   "outputs": [],
   "source": [
    "import nltk\n",
    "from nltk import FreqDist\n",
    "import numpy\n",
    "import matplotlib"
   ]
  },
  {
   "cell_type": "code",
   "execution_count": 15,
   "id": "2f16bce3-de89-401b-acd0-7758695c759b",
   "metadata": {},
   "outputs": [],
   "source": [
    "with open(\"./Jeffrey Dahmer_ Psychopathy and Neglect.txt\", \"r\", encoding = \"utf8\") as f:\n",
    "    Jeffpsy = f.read()\n",
    "JeffTokens = nltk.word_tokenize(Jeffpsy)"
   ]
  },
  {
   "cell_type": "code",
   "execution_count": 37,
   "id": "2ad3245e-cfe0-41b0-9d33-1cefb2a8981c",
   "metadata": {},
   "outputs": [
    {
     "name": "stdout",
     "output_type": "stream",
     "text": [
      "Question 1\n",
      "Length: 23036\n",
      "\n",
      "Question 2\n",
      "Lexical Diversity: 0.0007104540519828852\n",
      "\n",
      "Question 3\n",
      "[(',', 1408), ('.', 794), ('the', 690), ('and', 614), ('of', 559), ('(', 489), (')', 488), ('to', 454), ('a', 379), ('in', 226), (':', 202), ('or', 196), ('abuse', 178), ('child', 173), ('as', 167)]\n",
      "\n",
      "Question 4\n",
      "[('PSYCHOPATHY', 68), ('individuals', 53), ('development', 50), ('anti-social', 47), ('individual', 36), ('psychopathic', 35), ('tendencies', 30), ('adolescent', 30), ('experienced', 26), ('abuse/neglect', 25), ('antisocial', 21), ('information', 20), ('significant', 18), ('Maguire-Jack', 18), ('Dahmervideos', 17), ('researchers', 16), ('associated', 16), ('experiences', 16), ('interviews', 15), ('adolescents', 14), ('phenomenon', 14), ('psychological', 13), ('maltreatment', 12), ('understand', 11), ('witnessing', 11), ('Information', 11), ('additional', 11), ('Additionally', 10), ('aggressive', 10), ('participants', 10), ('feature=plcp', 10), ('physically', 9), ('aggression', 9), ('personality', 9), ('approximately', 9), ('intervention', 9), ('frequently', 8), ('interpersonal', 8), ('literature', 8), ('particular', 8), ('supervision', 8), ('//www.youtube.com/watch', 8), ('responsible', 7), ('fascination', 7), ('disorganized', 7), ('likelihood', 7), ('characteristics', 7), ('consequences', 7), ('frustration', 7), ('adolescence', 7), ('organizations', 7), ('Additional', 6), ('socioeconomic', 6), ('depression', 6), ('behavioral', 6), ('developing', 6), ('Dalnnervideos', 6), ('experience', 6), ('Anti-social', 6), ('activities', 6), ('participant', 6), ('questionnaire', 6), ('correlation', 6), ('interviewee', 6), ('ofInvestigation', 5), ('classified', 5), ('attachment', 5), ('hedonistic', 5), ('mutilation', 5), ('self-esteem', 5), ('interaction', 5), ('University', 5), ('considered', 5), ('neglect/abuse', 5), ('environment', 5), ('collection', 5), ('loneliness', 5), ('counseling', 5), ('Introduction', 4), ('Throughout', 4), ('enforcement', 4), ('Investigation', 4), ('biological', 4), ('environmental', 4), ('influenced', 4), ('previously', 4), ('abandonment', 4), ('overlooked', 4), ('definition', 4), ('population', 4), ('professionals', 4), ('discrepancies', 4), ('//www.youtube.comiwatch', 4), ('Development', 4), ('communities', 3), ('understanding', 3), ('exploratory', 3), ('motivation', 3), ('enviromnent', 3), ('gratification', 3), ('difficulties', 3), ('determining', 3), ('Prevention', 3), ('relationship', 3), ('Psychological', 3), ('internalize', 3), ('anti-anxiety', 3), ('altercations', 3), ('possibility', 3), ('neighborhood', 3), ('cannibalism', 3), ('detrimental', 3), ('Interpersonal', 3), ('medication', 3), ('displaying', 3), ('influential', 3), ('effectively', 3), ('similarities', 3), ('internalized', 3), ('externalizing', 3), ('conclusions', 3), ('Maltreatment', 3), ('intentional', 3), ('definitions', 3), ('caregivers', 3), ('supervised', 3), ('vulnerable', 3), ('developmental', 3), ('well-being', 3), ('protection', 3), ('independent', 3), ('experiment', 3), ('interactions', 3), ('Encyclopedia', 3), ('inter-parental', 3), ('longitudinal', 3), ('preconceived', 3), ('researching', 3), ('rationalize', 3), ('biographies', 3), ('government', 3), ('hypothesis', 3), ('International', 3), ('Comparative', 3), ('Criminology', 3), ('Description', 2), ('psychologically', 2), ('statements', 2), ('characteristic', 2), ('methodical', 2), ('successful', 2), ('prostitutes', 2), ('threatening', 2), ('conclusion', 2), ('victimization', 2), ('emotionally', 2), ('situations', 2), ('inappropriate', 2), ('self-worth', 2), ('themselves', 2), ('Individuals', 2), ('Department', 2), ('organization', 2), ('inevitably', 2), ('psychology', 2), ('eventually', 2), ('interviewed', 2), ('substantiated', 2), ('increasingly', 2), ('reprimanded', 2), ('misconduct', 2), ('exploiting', 2), ('particularly', 2), ('Dalmlervideos', 2), ('hitchhiker', 2), ('observational', 2), ('Beauregard', 2), ('criminological', 2), ('personalities', 2), ('necrophilia', 2), ('mistreated', 2), ('statistically', 2), ('Conclusions', 2), ('internalizing', 2), ('significantly', 2), ('domestically', 2), ('inpatients', 2), ('association', 2), ('beneficial', 2), ('destructive', 2), ('prevention', 2), ('Adolescents', 2), ('sufficient', 2), ('unsupervised', 2), ('disadvantages', 2), ('neglectful', 2), ('assessment', 2), ('background', 2), ('laboratory', 2), ('parent-child', 2), ('connection', 2), ('occasionally', 2), ('manipulation', 2), ('researched', 2), ('pm1icipants', 2), ('cOlmection', 2), ('encouraged', 2), ('stereotyping', 2), ('misconception', 2), ('dimensions', 2), ('implemented', 2), ('respondent', 2), ('relatively', 2), ('occurrence', 2), ('memorabilia', 2), ('patiicular', 2), ('pertaining', 2), ('geographically', 2), ('ultimately', 2), ('social-emotional', 2), ('throughout', 2), ('qualitative', 2), ('patticipant', 2), ('communication', 2), ('critically', 2), ('specialize', 2), ('supplementary', 2), ('Organizations', 2), ('Interviews', 2), ('questioned', 2), ('specializes', 2), ('pro-social', 2), ('therapists', 2), ('projection', 2), ('volitional', 2), ('inconsistencies', 2), ('Researchers', 2), ('Herrenkohl', 2), ('//www.victimsofviolence.on.calrev2/index.php', 2), ('serialldllers', 2), ('captivated', 1), ('sociologists', 1), ('criminologists', 1), ('unsuspecting', 1), ('importance', 1), ('Statistically', 1), ('discussing', 1), ('comparison', 1), ('discernible', 1), ('investigations', 1), ('homophobic', 1), ('homophobia', 1), ('homosexual', 1), ('low-middle', 1), ('sociopathic', 1), ('contradictory', 1), ('strangling', 1), ('incorporate', 1), ('intelligent', 1), ('transportation', 1), ('unemployed', 1), ('categorize', 1), ('classifying', 1), ('powercontrol', 1), ('Hedonistic', 1), ('schizophrenic', 1), ('responsibility', 1), ('Power-control', 1), ('belongings', 1), ('cOlmnunities', 1), ('regressive', 1), ('delinquency', 1), ('involvement', 1), ('desensitized', 1), ('backgrounds', 1), ('orientations', 1), ('intimidation', 1), ('continuous', 1), ('occupation', 1), ('orientation', 1), ('Punishment', 1), ('commission', 1), ('traumatize', 1), ('deliberately', 1), ('availability', 1), ('self-perception', 1), ('employment', 1), ('persuasion', 1), ('inducement', 1), ('enticement', 1), ('simulation', 1), ('molestation', 1), ('prostitution', 1), ('exploitation', 1), ('especially', 1), ('borderline', 1), ('Emotionally', 1), ('discovered', 1), ('externalize', 1), ('unexplainable', 1), ('simultaneously', 1), ('potentially', 1), ('traumatizing', 1), ('castration', 1), ('compounded', 1), ('unsubstantiated', 1), ('subsequent', 1), ('influencing', 1), ('disturbing', 1), ('manifested', 1), ('conversation', 1), ('conversations', 1), ('superficial', 1), ('everything', 1), ('confessions', 1), ('Dalunervideos', 1), ('Dahmervideos,2012e', 1), ('committing', 1), ('continually', 1), ('unprovoked', 1), ('characteristically', 1), ('officially', 1), ('manipulating', 1), ('escalating', 1), ('unfortunate', 1), ('particulady', 1), ('collecting', 1), ('mutilating', 1), ('compulsion', 1), ('recollection', 1), ('cannibalize', 1), ('uncontrollable', 1), ('unavoidable', 1), ('television', 1), ('power-control', 1), ('Literature', 1), ('comlection', 1), (\"analysis's\", 1), ('child/parent', 1), ('Specifically', 1), ('subcategories', 1), ('governments', 1), ('psychopath', 1), ('variations', 1), ('combinations', 1), ('readability', 1), ('foundation', 1), ('opportunity', 1), ('attractive', 1), ('ineffective', 1), ('protecting', 1), ('illustrate', 1), ('childparents', 1), ('encouraging', 1), ('Individual', 1), ('differences', 1), ('connections', 1), ('upbringing', 1), ('victimology', 1), ('Correctional', 1), ('Facilities', 1), ('patiicularly', 1), ('encompassing', 1), ('disciplining', 1), ('misbehaves', 1), ('controversial', 1), ('misbehaving', 1), ('spouse/partner', 1), ('emotionality', 1), ('Behavioral', 1), ('externalized', 1), ('Vocabulary', 1), ('consequentially', 1), ('Emotionality', 1), ('Sociability', 1), ('Temperament', 1), ('Protective', 1), ('Classification', 1), ('interpretation', 1), ('circumcision', 1), ('culturally', 1), ('requirement', 1), ('adequately', 1), ('unsuitable', 1), ('inadequate', 1), ('predictive', 1), ('combination', 1), ('longitudinally', 1), ('disciplinary', 1), ('consecutively', 1), ('Psychiatry', 1), ('threatened', 1), ('reoccurring', 1), ('intimidating', 1), ('substantial', 1), ('maladaptive', 1), ('Anti-Social', 1), ('intentionally', 1), ('Lindenburg', 1), ('overprotective', 1), ('domineering', 1), ('overprotected', 1), ('privileges', 1), ('restriction', 1), ('independence', 1), ('free-living', 1), ('friendships', 1), ('miscommunication', 1), ('protective', 1), ('monitoring', 1), ('Questionnaire', 1), ('administering', 1), ('Upbringing', 1), ('maturation', 1), ('acknowledge', 1), ('wellspecified', 1), ('operational', 1), ('accurately', 1), ('disadvantaged', 1), ('southeastern', 1), ('urbanization', 1), ('stlUctured', 1), ('assessments', 1), ('Achievement', 1), ('communicate', 1), ('identified', 1), ('professional', 1), ('replicated', 1), ('snpervisory', 1), ('neglectfhl', 1), ('discipline', 1), ('disadvantage', 1), ('inconsistent', 1), ('assembling', 1), ('demonstrate', 1), ('Theoretically', 1), ('encourages', 1), ('fundamental', 1), ('populations', 1), ('researcher', 1), ('OCCUITence', 1), ('perpetrated', 1), ('Association', 1), ('permission', 1), ('elementary', 1), ('Socioeconomic', 1), ('Tormenting', 1), ('preadolescents', 1), ('determined', 1), ('supportive', 1), ('automatically', 1), ('relationships', 1), ('pmiicipants', 1), ('Queensland', 1), ('selfadministered', 1), ('questiOimaires', 1), ('covertness', 1), ('externalization', 1), ('Checklist-Revised-Parent', 1), ('Antisocial', 1), ('Environment', 1), ('cOlmections', 1), ('preventative', 1), ('jurisdictions', 1), ('legislation', 1), ('investigators', 1), ('investigation', 1), ('universities', 1), ('California', 1), ('Demographic', 1), ('retrospective', 1), ('Computer-Assisted', 1), ('Animal-Related', 1), ('Experiences', 1), ('abuselneglect', 1), ('necessities', 1), ('confinement', 1), ('cleanliness', 1), ('infliction', 1), ('domesticated', 1), ('participated', 1), ('infiltrated', 1), ('unidentified', 1), ('fulfilling', 1), ('perpetrators', 1), ('imagination', 1), ('challenging', 1), ('bureaucracy', 1), ('underlying', 1), ('mesmerized', 1), ('memorialized', 1), ('realization', 1), ('generations', 1), ('predilections', 1), ('enlightenment', 1), ('scientitic', 1), ('generation', 1), ('dehumanizing', 1), ('statistics', 1), ('advancements', 1), ('mainstream', 1), ('profitable', 1), ('glorification', 1), ('glamorization', 1), ('conlll0dities', 1), ('Ultimately', 1), ('transparent', 1), ('superstars', 1), ('consumerism', 1), ('Samaritans', 1), ('celebrities', 1), ('Christopher', 1), ('predilection', 1), (\"individual's\", 1), ('humiliating', 1), ('examinations', 1), ('humiliation', 1), ('international', 1), ('constitutes', 1), ('requirements', 1), ('separately', 1), ('non-sexually', 1), ('individually', 1), ('examination', 1), ('represented', 1), ('dismembering', 1), ('sodomizing', 1), ('grandfather', 1), ('remarriage', 1), ('interested', 1), ('indifference', 1), ('incapacities', 1), ('indifferent', 1), ('considerable', 1), ('Institutional', 1), ('45CFR46.l01.b', 1), ('subsections', 1), ('instrumentation', 1), ('Consequentially', 1), ('intemalized', 1), ('Instrumentation', 1), ('integrating', 1), ('interviewing', 1), ('precaution', 1), ('questiomlaire', 1), ('open-ended', 1), ('interviewees', 1), ('palticipants', 1), (\"interviewee's\", 1), ('patticular', 1), ('Collection', 1), ('documented', 1), ('unobtrusive', 1), ('methodology', 1), ('rehabilitation', 1), ('throughjournal', 1), ('constmcted', 1), ('constructed', 1), ('Government', 1), ('assistance', 1), ('attempting', 1), ('statistical', 1), ('invaluable', 1), ('motivations', 1), ('heartbreaking', 1), ('revelations', 1), ('paliicipating', 1), ('respondents', 1), ('SpecialistlInterventionist', 1), ('genetically', 1), ('undiagnosed', 1), ('diagnosable', 1), (\"sUll'ounding\", 1), ('untreatable', 1), ('functional', 1), ('manifestations', 1), ('unadulterated', 1), ('dissecting', 1), ('anger/frustration', 1), ('mistreatment', 1), ('transference', 1), ('Abused/neglected', 1), ('discussion', 1), ('explaining', 1), ('Trickettet', 1), ('questiOlmaire', 1), ('childhood/adolescent', 1), ('dysfunctional', 1), ('repressing', 1), ('compulsive/addictive', 1), ('contributing', 1), ('free-agent', 1), (\"Reseal'ell\", 1), ('SimplyPsychology.org', 1), ('conditioning', 1), ('reinforcement', 1), ('guaranteed', 1), ('contrasting', 1), ('impervious', 1), ('acceptable', 1), ('abused/neglected', 1), ('contributors', 1), ('boundaries', 1), ('increasing', 1), ('predicting', 1), ('preventing', 1), ('child-parent', 1), ('suppOllive', 1), ('Suggestions', 1), ('confronted', 1), ('enlightened', 1), ('Dalnnervideo', 1), ('productive', 1), ('discrepancy', 1), ('significmlt', 1), ('environments', 1), ('demographics', 1), ('summarized', 1), ('abused/neglect', 1), ('abuse/neglected', 1), ('REFERENCES', 1), ('//www.ncbi.n1m.nih.gov/pubmedhealthlPMHOOOI917/', 1), ('//www.acadv.org/abusers.html', 1), ('ofCriminal', 1), ('007/BF02885707', 1), ('interparental', 1), ('ofinterpersonal', 1), ('l0.1177/0886260502250081', 1), ('//www.trutv.com/library/crime/seriaIJillers/notorious/gacy/gacy_l.html', 1), ('Biography.com', 1), ('//www.biography.com/people/tedbundy-9231165', 1), ('protection.', 1), ('compassion', 1), ('Definitions', 1), ('//www.cdc.govNiolencePreventionichildmaltreatmentidefinitions.html', 1), ('integrated', 1), ('socialleaming', 1), ('doi:1O.1177/0306624X10361317', 1), ('//www.childwelfare', 1), ('gov/pubs/factsheets/long_tenu_consequences', 1), ('//www.childwelfare.gov/pubs/factsheets/whatiscan.cfm', 1), ('Sunuuaryof', 1), ('//www.childwelfare.gov/systemwide/laws~olicies/statutes/witnessdv.cfiu', 1), ('Associations', 1), ('ofInterpersonal', 1), ('doi:10.1177/0886260505283341', 1), ('v=vjIyhvnB9TM', 1), ('feature=picp', 1), ('Dalnllervideos', 1), ('v=eMpsudjaPk', 1), ('v=vdXIHPtkw88', 1), ('v=iKkyZXOfZOs', 1), ('v=9A719vAbzQ8', 1), ('v=QiHUAi8xwh4', 1), ('v=wMP850ARWXU', 1), ('v=_upLGnsle5I', 1), ('v=mROaHILumjI', 1), ('v=V2nTBXWI4Ko', 1), ('feature=relmfu', 1), ('Investigating', 1), ('co-occurring', 1), ('intelpersonal', 1), ('1036-1056.', 1), ('doi:10.1177/0886260508319362', 1), ('anti-sociality', 1), ('l0.1007/s10519-010-9336-2', 1), ('//www.fbi.gov/statsservices/publica', 1), ('tions/serial-murder', 1), ('serial-murder-l', 1), ('Aggressive', 1), ('doi:10.1002/ab.20322', 1), ('comprehensive', 1), ('//www.ncjrs.gov/pdffiles1/ojjdp/227744.pdf', 1), ('uklnews/worldnews/', 1), ('O/Serial-killer-8-charged', 1), ('-with-threemurders.html', 1), ('doi:10.l177/1741659009335714', 1), ('//socyberty.com/Crime/jolm-waynegacy/', 1), ('hlternational', 1), ('IO.ll77/1741659007082469', 1), ('//www.merckmanuals.com/home/childrens_', 1), ('health_issues/mental_health_disorders_i', 1), ('children/conduct-', 1), ('disorder.html', 1), ('supervisory', 1), ('replication', 1), ('077559504273684', 1), ('Bangdiwala', 1), ('Importance', 1), ('Pediatrics', 1), ('10.1542/peds.2006-3622', 1), ('psychopathy', 1), ('BriejTreatment', 1), ('Intervention', 1), ('O.l093/brieftreatmentlmlnn004', 1), ('lll1j.l4678624.2012.01820.x', 1), ('Loneliness', 1), (\"Intel'llational\", 1), ('177/0306624X05274898', 1), ('Conditioning', 1), ('//www.simplypsychology.org/operant-conditioning.htmI', 1), ('//www.simp1ypsychology.orglbandura.html', 1), ('Punislunent', 1), ('llorcashealingarts.org/poisonous-pedagogy-punislmlent-followed-on-a-grand-scalel', 1), ('psychiatric', 1), ('1O.1007/s10578-011-0222-9', 1), ('Punislmlent', 1), ('llwww.crimemuseum.org/library/seriaIKillers/seriaIKillerVictim.html', 1), ('10.1177/14680173030032003', 1), ('Lindenberg', 1), (\"adolescents'\", 1), ('ofBehavioral', 1), ('10.1177/0165025409350949', 1), ('firesetting', 1), ('10.117710306624X04265087', 1), ('Cornerstone', 1), ('civilization', 1), ('//urantiabook.org/archive/ww', 1), ('Longitudinal', 1), (\"children's\", 1), ('attachments', 1), (\"JOlll'l1al\", 1), ('10.1177/0886260510362883', 1), ('ofResearch', 1), ('Adolescence', 1), ('.15327795.2010.0071l.x', 1), ('//www.ncbi.n1m.nih.gov/pubmedhealthIPMH0001919/', 1), ('option=com_content', 1), ('200ption=com_conte', 1), ('schizophrenia', 1), ('jill1ctional', 1), ('antisocial/psychopathic', 1), ('dysjill1ctional', 1), ('physical/sexual', 1), ('manifesting', 1), ('ojabuse/neglect', 1), ('expressing', 1), ('anger/jhlstration', 1), ('retaliation', 1), ('conjilsion-', 1), ('questioning', 1), ('hurt/bully/abuse', 1), ('inflnenced', 1), ('passionate', 1), ('11/19/2012', 1), ('addictions', 1), ('ofdevelopment', 1), ('Pertaining', 1), ('wellirnown', 1), ('contributed', 1), (\"i'ee-agent\", 1), ('11118/2012', 1), ('11119/2012', 1)]\n",
      "\n",
      "Question 5\n",
      "The nine dimensions of cruelty\n",
      "consisted of: severity or degree of pain inflicted upon the animal, frequency of the animal abuse,\n",
      "duration or average time spent abusing the animal in one session, when the last act of abuse was\n",
      "committed (recency), diversity of animals abused (example: dogs, cats, birds ... ), level of\n",
      "concern for the abused animal (sentience), whether the child attempts to hide the act\n",
      "(covertness), whether the act was committed alone or with others (isolation), and whether the\n",
      "child regrets the acts of abuse(empathy) (Dadds et aI., 2006).\n",
      "The length of the longest sentence is: 119\n",
      "\n",
      "Question 6\n",
      "['the', 'nine', 'dimens', 'of', 'cruelti', 'consist', 'of', ':', 'sever', 'or', 'degre', 'of', 'pain', 'inflict', 'upon', 'the', 'anim', ',', 'frequenc', 'of', 'the', 'anim', 'abus', ',', 'durat', 'or', 'averag', 'time', 'spent', 'abus', 'the', 'anim', 'in', 'one', 'session', ',', 'when', 'the', 'last', 'act', 'of', 'abus', 'was', 'commit', '(', 'recenc', ')', ',', 'divers', 'of', 'anim', 'abus', '(', 'exampl', ':', 'dog', ',', 'cat', ',', 'bird', '...', ')', ',', 'level', 'of', 'concern', 'for', 'the', 'abus', 'anim', '(', 'sentienc', ')', ',', 'whether', 'the', 'child', 'attempt', 'to', 'hide', 'the', 'act', '(', 'covert', ')', ',', 'whether', 'the', 'act', 'was', 'commit', 'alon', 'or', 'with', 'other', '(', 'isol', ')', ',', 'and', 'whether', 'the', 'child', 'regret', 'the', 'act', 'of', 'abus', '(', 'empathi', ')', '(', 'dadd', 'et', 'ai.', ',', '2006', ')', '.']\n"
     ]
    }
   ],
   "source": [
    "# Question 1\n",
    "print(\"Question 1\")\n",
    "print(\"Length:\", len(JeffTokens))\n",
    "print()\n",
    "\n",
    "# Qusetion 2\n",
    "print(\"Question 2\")\n",
    "JeffLength = len(JeffTokens)\n",
    "def lexical_diversity(JeffTokens):\n",
    "    return len(set(JeffTokens)) / len(JeffTokens)\n",
    "fdist1 = FreqDist(JeffTokens) \n",
    "print(\"Lexical Diversity:\", lexical_diversity(Jeffpsy))\n",
    "print()\n",
    "\n",
    "# Question 3\n",
    "print(\"Question 3\")\n",
    "print(fdist1.most_common(15))\n",
    "print()\n",
    "\n",
    "# Question 4\n",
    "print(\"Question 4\")\n",
    "filtered_words = [word for word in JeffTokens if len(word) >= 10]\n",
    "longdist = FreqDist(filtered_words)\n",
    "print(longdist.most_common())\n",
    "print()\n",
    "\n",
    "# Question 5\n",
    "print(\"Question 5\")\n",
    "from nltk.tokenize import sent_tokenize, word_tokenize\n",
    "sentences = sent_tokenize(Jeffpsy)\n",
    "sent1 = max(sentences, key=lambda sentence: len(word_tokenize(sentence)))\n",
    "print(sent1)\n",
    "sentlen = len(word_tokenize(longest_sentence))\n",
    "print(\"The length of the longest sentence is:\", sentlen)\n",
    "print()\n",
    "\n",
    "# Question 6\n",
    "print(\"Question 6\")\n",
    "from nltk.stem.snowball import SnowballStemmer \n",
    "stemmer = SnowballStemmer(\"english\")\n",
    "lsent1 = word_tokenize(longest_sentence)\n",
    "stemmed_words = [stemmer.stem(word) for word in lsent1]\n",
    "print(stemmed_words)\n"
   ]
  },
  {
   "cell_type": "code",
   "execution_count": null,
   "id": "91d64967-e4c0-4a73-b250-ff941d08cd17",
   "metadata": {},
   "outputs": [],
   "source": []
  }
 ],
 "metadata": {
  "kernelspec": {
   "display_name": "Python 3 (ipykernel)",
   "language": "python",
   "name": "python3"
  },
  "language_info": {
   "codemirror_mode": {
    "name": "ipython",
    "version": 3
   },
   "file_extension": ".py",
   "mimetype": "text/x-python",
   "name": "python",
   "nbconvert_exporter": "python",
   "pygments_lexer": "ipython3",
   "version": "3.12.4"
  }
 },
 "nbformat": 4,
 "nbformat_minor": 5
}
